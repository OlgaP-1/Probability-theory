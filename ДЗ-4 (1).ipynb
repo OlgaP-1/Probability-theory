{
 "cells": [
  {
   "cell_type": "code",
   "execution_count": 1,
   "metadata": {},
   "outputs": [],
   "source": [
    "import pandas as pd\n",
    "import numpy as np\n",
    "from matplotlib import pyplot as plt\n",
    "from scipy import stats"
   ]
  },
  {
   "cell_type": "code",
   "execution_count": 2,
   "metadata": {},
   "outputs": [],
   "source": [
    "def poisson_proba(k, lambda_):\n",
    "    \n",
    "    return (lambda_ ** k) * (np.exp(-lambda_)) / np.math.factorial(k)"
   ]
  },
  {
   "cell_type": "markdown",
   "metadata": {},
   "source": [
    "**Задача 1**\n",
    "\n",
    "О непрерывной равномерно распределенной случайной величине $B$ известно, что ее дисперсия равна 0.2. Можно ли найти правую границу величины $B$ и ее среднее значение зная, что левая граница равна 0.5? Если да, найдите ее."
   ]
  },
  {
   "cell_type": "markdown",
   "metadata": {},
   "source": [
    "Дисперсия равномерного распределения равна:\n",
    "    $$D(X) = \\frac{(b - a)^2}{12}$$"
   ]
  },
  {
   "cell_type": "markdown",
   "metadata": {},
   "source": [
    "из формулы можем найти правую гриницу:\n",
    "    $$\\frac{(b - \\frac{1}{2})^2}{12}=\\frac{1}{5}$$\n",
    "    \\\n",
    "    $$\\frac{(b - \\frac{1}{2})^2}{12}-\\frac{1}{5}=0$$\n",
    "    \\\n",
    "    $$\\frac{b^2 - b + \\frac{1}{4}}{12}-\\frac{1}{5}=0$$\n",
    "    \\\n",
    "    $$\\frac{b^2}{12} - \\frac{b}{12} + \\frac{1}{48} -\\frac{1}{5}=0$$\n",
    "    \\\n",
    "    $$\\frac{b^2}{12} - \\frac{b}{12} -\\frac{23}{240}=0$$\n",
    "    \\\n",
    "    Приведем к общему знаменателю и получим уравнение:\n",
    "    \\\n",
    "    $$20b^2 - 20b - 43=0$$"
   ]
  },
  {
   "cell_type": "markdown",
   "metadata": {},
   "source": [
    "Найдем дискриминант:\n",
    "$$D=b2-4ac=400+3440=3840$$"
   ]
  },
  {
   "cell_type": "markdown",
   "metadata": {},
   "source": [
    "$$X_{1,2}=\\frac{-b \\pm \\sqrt{D}}{2a}=\\frac{20 \\pm \\sqrt{3840}}{40}=\\frac{20 \\pm 16\\sqrt{15}}{40}$$"
   ]
  },
  {
   "cell_type": "markdown",
   "metadata": {},
   "source": [
    "$$X_1=\\frac{5+4\\sqrt{15}}{10}\\approx 2.0492$$"
   ]
  },
  {
   "cell_type": "markdown",
   "metadata": {},
   "source": [
    "$$X_2=\\frac{5-4\\sqrt{15}}{10}\\approx -1.0492$$"
   ]
  },
  {
   "cell_type": "markdown",
   "metadata": {},
   "source": [
    "Т.к. у нас два корня, один из которых меньше левой границы, таким образом можно сделать вывод, что правой границей является значение $$\\approx 2.0492$$"
   ]
  },
  {
   "cell_type": "markdown",
   "metadata": {},
   "source": [
    "Найдем математическое ожидание и построим график:\n",
    "    $$M(X)=\\frac{b+a}{2}=\\frac{2.0492+0.5}{2}=\\frac{2.5492}{2}\\approx 1.2746$$"
   ]
  },
  {
   "cell_type": "code",
   "execution_count": 3,
   "metadata": {},
   "outputs": [
    {
     "data": {
      "text/plain": [
       "[<matplotlib.lines.Line2D at 0x1b906dde550>]"
      ]
     },
     "execution_count": 3,
     "metadata": {},
     "output_type": "execute_result"
    },
    {
     "data": {
      "image/png": "[encoded data removed]",
      "text/plain": [
       "<Figure size 432x288 with 1 Axes>"
      ]
     },
     "metadata": {
      "needs_background": "light"
     },
     "output_type": "display_data"
    }
   ],
   "source": [
    "loc = 1.2746 # mu\n",
    "scale = 0.2**0.5 #sigma\n",
    "ox = np.linspace(0.5, 2.0492, 1000)\n",
    "oy = stats.norm.cdf(ox, loc, scale)\n",
    "plt.plot(ox, oy)"
   ]
  },
  {
   "cell_type": "markdown",
   "metadata": {},
   "source": [
    "**Задача 2**\n",
    "\n",
    "Рост взрослого населения города X имеет нормальное распределение, причем, средний рост равен 174 см, а среднее квадратическое отклонение равно 8 см. посчитайте, какова вероятность того, что случайным образом выбранный взрослый человек имеет рост:\n",
    "1. больше 182 см?\n",
    "2. больше 190 см?\n",
    "3. от 166 см до 190 см?\n",
    "4. от 166 см до 182 см?\n",
    "5. от 158 см до 190 см?\n",
    "6. не выше 150 см или не ниже 190 см?\n",
    "7. не выше 150 см или не ниже 198 см?\n",
    "8. ниже 166 см?\n",
    "\n",
    "Задачу можно решить двумя способами: без использования сторонних библиотек (numpy, scipy, pandas и пр.), а затем проверить себя с помощью встроенных функций"
   ]
  },
  {
   "cell_type": "code",
   "execution_count": 4,
   "metadata": {},
   "outputs": [],
   "source": [
    "loc = 174 # ню\n",
    "scale = 8 # сигма"
   ]
  },
  {
   "cell_type": "code",
   "execution_count": 5,
   "metadata": {},
   "outputs": [],
   "source": [
    "samples=np.random.normal(loc, scale,size=10000)"
   ]
  },
  {
   "cell_type": "code",
   "execution_count": 6,
   "metadata": {},
   "outputs": [
    {
     "data": {
      "text/plain": [
       "139.24940295186647"
      ]
     },
     "execution_count": 6,
     "metadata": {},
     "output_type": "execute_result"
    }
   ],
   "source": [
    "samples.min()"
   ]
  },
  {
   "cell_type": "code",
   "execution_count": 7,
   "metadata": {},
   "outputs": [
    {
     "data": {
      "text/plain": [
       "205.5410489955364"
      ]
     },
     "execution_count": 7,
     "metadata": {},
     "output_type": "execute_result"
    }
   ],
   "source": [
    "samples.max()"
   ]
  },
  {
   "cell_type": "code",
   "execution_count": 8,
   "metadata": {},
   "outputs": [
    {
     "data": {
      "text/plain": [
       "[<matplotlib.lines.Line2D at 0x1b907eb0310>]"
      ]
     },
     "execution_count": 8,
     "metadata": {},
     "output_type": "execute_result"
    },
    {
     "data": {
      "image/png": "[encoded data removed]",
      "text/plain": [
       "<Figure size 432x288 with 1 Axes>"
      ]
     },
     "metadata": {
      "needs_background": "light"
     },
     "output_type": "display_data"
    }
   ],
   "source": [
    "ox = np.linspace(144, 204,1000)\n",
    "oy = np.array([stats.norm.pdf(x, loc, scale) for x in ox])\n",
    "plt.hist(samples, density=True, bins=15)\n",
    "plt.plot(ox,oy)"
   ]
  },
  {
   "cell_type": "code",
   "execution_count": 9,
   "metadata": {},
   "outputs": [
    {
     "data": {
      "text/plain": [
       "173.86675416683522"
      ]
     },
     "execution_count": 9,
     "metadata": {},
     "output_type": "execute_result"
    }
   ],
   "source": [
    "samples.mean()"
   ]
  },
  {
   "cell_type": "code",
   "execution_count": 10,
   "metadata": {},
   "outputs": [
    {
     "data": {
      "text/plain": [
       "64.76182224431278"
      ]
     },
     "execution_count": 10,
     "metadata": {},
     "output_type": "execute_result"
    }
   ],
   "source": [
    "samples.var()"
   ]
  },
  {
   "cell_type": "markdown",
   "metadata": {},
   "source": [
    "**1)** какова вероятность того, что случайным образом выбранный взрослый человек имеет рост больше 182 см?"
   ]
  },
  {
   "cell_type": "code",
   "execution_count": 11,
   "metadata": {
    "scrolled": true
   },
   "outputs": [
    {
     "data": {
      "text/plain": [
       "[<matplotlib.lines.Line2D at 0x1b907f38400>]"
      ]
     },
     "execution_count": 11,
     "metadata": {},
     "output_type": "execute_result"
    },
    {
     "data": {
      "image/png": "[encoded data removed]",
      "text/plain": [
       "<Figure size 432x288 with 1 Axes>"
      ]
     },
     "metadata": {
      "needs_background": "light"
     },
     "output_type": "display_data"
    }
   ],
   "source": [
    "ox = np.linspace(182, 0, 1000)\n",
    "oy = 1 - stats.norm.cdf(ox, loc, scale)\n",
    "# plt.hist(samples, density=True, bins=15)\n",
    "plt.grid()\n",
    "plt.plot(ox,oy)"
   ]
  },
  {
   "cell_type": "markdown",
   "metadata": {},
   "source": [
    "Вероятность того, что случайным образом выбранный взрослый человек имеет рост больше 182 см равна **0,1**"
   ]
  },
  {
   "cell_type": "markdown",
   "metadata": {},
   "source": [
    "по правилу трех сигм, вероятность будет равна 15,8% или 0,158, т.к. 174 + 8 = 182, значит в первую сигму не попадаем, а сумма вероятностей второй и третьей сигмы равно 13,6% + 2,1% + 0,1% = 15,8%"
   ]
  },
  {
   "cell_type": "markdown",
   "metadata": {},
   "source": [
    "**2)** какова вероятность того, что случайным образом выбранный взрослый человек имеет рост:\n",
    "больше 190 см?"
   ]
  },
  {
   "cell_type": "code",
   "execution_count": 12,
   "metadata": {},
   "outputs": [
    {
     "data": {
      "text/plain": [
       "[<matplotlib.lines.Line2D at 0x1b907f993a0>]"
      ]
     },
     "execution_count": 12,
     "metadata": {},
     "output_type": "execute_result"
    },
    {
     "data": {
      "image/png": "[encoded data removed]",
      "text/plain": [
       "<Figure size 432x288 with 1 Axes>"
      ]
     },
     "metadata": {
      "needs_background": "light"
     },
     "output_type": "display_data"
    }
   ],
   "source": [
    "ox = np.linspace(0, 190,1000)\n",
    "oy = 1 - stats.norm.cdf(ox, loc, scale)\n",
    "plt.grid()\n",
    "plt.plot(ox,oy)"
   ]
  },
  {
   "cell_type": "markdown",
   "metadata": {},
   "source": [
    "Вероятность того, что случайным образом выбранный взрослый человек имеет рост больше 182 см примерно равна **0,05**"
   ]
  },
  {
   "cell_type": "markdown",
   "metadata": {},
   "source": [
    "по правилу трех сигм, вероятность будет равна 2,2% или 0,022, т.к. 174 + 2 * 8 = 190, значит в первую и вторую сигму не попадаем, а сумма вероятностей третьей сигмы равно 2,1% + 0,1% = 2,2%"
   ]
  },
  {
   "cell_type": "markdown",
   "metadata": {},
   "source": [
    "**3)** какова вероятность того, что случайным образом выбранный взрослый человек имеет рост: от 166 см до 190 см?"
   ]
  },
  {
   "cell_type": "code",
   "execution_count": 13,
   "metadata": {},
   "outputs": [
    {
     "data": {
      "text/plain": [
       "[<matplotlib.lines.Line2D at 0x1b907ff1d00>]"
      ]
     },
     "execution_count": 13,
     "metadata": {},
     "output_type": "execute_result"
    },
    {
     "data": {
      "image/png": "[encoded data removed]",
      "text/plain": [
       "<Figure size 432x288 with 1 Axes>"
      ]
     },
     "metadata": {
      "needs_background": "light"
     },
     "output_type": "display_data"
    }
   ],
   "source": [
    "ox1 = np.linspace(0, 190,1000)\n",
    "ox2 = np.linspace(0, 166,1000)\n",
    "oy1 = stats.norm.cdf(ox1, loc, scale)\n",
    "oy2 = stats.norm.cdf(ox2, loc, scale)\n",
    "plt.grid()\n",
    "plt.plot(ox1,oy1)"
   ]
  },
  {
   "cell_type": "code",
   "execution_count": 14,
   "metadata": {},
   "outputs": [
    {
     "data": {
      "text/plain": [
       "[<matplotlib.lines.Line2D at 0x1b908052d60>]"
      ]
     },
     "execution_count": 14,
     "metadata": {},
     "output_type": "execute_result"
    },
    {
     "data": {
      "image/png": "[encoded data removed]",
      "text/plain": [
       "<Figure size 432x288 with 1 Axes>"
      ]
     },
     "metadata": {
      "needs_background": "light"
     },
     "output_type": "display_data"
    }
   ],
   "source": [
    "plt.grid()\n",
    "plt.plot(ox2,oy2)"
   ]
  },
  {
   "cell_type": "markdown",
   "metadata": {},
   "source": [
    "190: 0,98 \\\n",
    "166: 0,16"
   ]
  },
  {
   "cell_type": "code",
   "execution_count": 15,
   "metadata": {},
   "outputs": [
    {
     "data": {
      "text/plain": [
       "0.82"
      ]
     },
     "execution_count": 15,
     "metadata": {},
     "output_type": "execute_result"
    }
   ],
   "source": [
    "0.98-0.16"
   ]
  },
  {
   "cell_type": "markdown",
   "metadata": {},
   "source": [
    "по правилу трех сигм, вероятность будет  в пределах $$\\mu - \\sigma$$ и $$\\mu + 2\\sigma$$ \n",
    "таким образом 34,1% + 34,1% + 13,6% = 81,8% или **0,818**"
   ]
  },
  {
   "cell_type": "markdown",
   "metadata": {},
   "source": [
    "**4)** какова вероятность того, что случайным образом выбранный взрослый человек имеет рост: от 166 см до 182 см?"
   ]
  },
  {
   "cell_type": "code",
   "execution_count": 16,
   "metadata": {},
   "outputs": [
    {
     "data": {
      "text/plain": [
       "[<matplotlib.lines.Line2D at 0x1b9080bf490>]"
      ]
     },
     "execution_count": 16,
     "metadata": {},
     "output_type": "execute_result"
    },
    {
     "data": {
      "image/png": "[encoded data removed]",
      "text/plain": [
       "<Figure size 432x288 with 1 Axes>"
      ]
     },
     "metadata": {
      "needs_background": "light"
     },
     "output_type": "display_data"
    }
   ],
   "source": [
    "ox1 = np.linspace(0, 182,1000)\n",
    "oy1 = stats.norm.cdf(ox1, loc, scale)\n",
    "plt.grid()\n",
    "plt.plot(ox1,oy1)"
   ]
  },
  {
   "cell_type": "markdown",
   "metadata": {},
   "source": [
    "вероятность примерно равна 0,84\n",
    "\n",
    "вероятность от 166 см нам уже известна, она равна 0,16"
   ]
  },
  {
   "cell_type": "code",
   "execution_count": 17,
   "metadata": {},
   "outputs": [
    {
     "data": {
      "text/plain": [
       "0.6799999999999999"
      ]
     },
     "execution_count": 17,
     "metadata": {},
     "output_type": "execute_result"
    }
   ],
   "source": [
    "0.84-0.16"
   ]
  },
  {
   "cell_type": "markdown",
   "metadata": {},
   "source": [
    "по правилу трех сигм, вероятность будет  в пределах $$\\mu - \\sigma$$ и $$\\mu + \\sigma$$ \n",
    "таким образом 34,1% + 34,1% = 68,2% или **0,682**"
   ]
  },
  {
   "cell_type": "markdown",
   "metadata": {},
   "source": [
    "**5)** какова вероятность того, что случайным образом выбранный взрослый человек имеет рост: от 158 см до 190 см?"
   ]
  },
  {
   "cell_type": "code",
   "execution_count": 18,
   "metadata": {},
   "outputs": [
    {
     "data": {
      "text/plain": [
       "[<matplotlib.lines.Line2D at 0x1b90811b940>]"
      ]
     },
     "execution_count": 18,
     "metadata": {},
     "output_type": "execute_result"
    },
    {
     "data": {
      "image/png": "[encoded data removed]",
      "text/plain": [
       "<Figure size 432x288 with 1 Axes>"
      ]
     },
     "metadata": {
      "needs_background": "light"
     },
     "output_type": "display_data"
    }
   ],
   "source": [
    "ox1 = np.linspace(0, 158,1000)\n",
    "ox2 = np.linspace(0, 190,1000)\n",
    "oy1 = stats.norm.cdf(ox1, loc, scale)\n",
    "oy2 = stats.norm.cdf(ox2, loc, scale)\n",
    "plt.grid()\n",
    "plt.plot(ox1,oy1)"
   ]
  },
  {
   "cell_type": "markdown",
   "metadata": {},
   "source": [
    "Вероятность от 158см примерно 0,024"
   ]
  },
  {
   "cell_type": "code",
   "execution_count": 19,
   "metadata": {},
   "outputs": [
    {
     "data": {
      "text/plain": [
       "[<matplotlib.lines.Line2D at 0x1b90817ab50>]"
      ]
     },
     "execution_count": 19,
     "metadata": {},
     "output_type": "execute_result"
    },
    {
     "data": {
      "image/png": "[encoded data removed]",
      "text/plain": [
       "<Figure size 432x288 with 1 Axes>"
      ]
     },
     "metadata": {
      "needs_background": "light"
     },
     "output_type": "display_data"
    }
   ],
   "source": [
    "plt.grid()\n",
    "plt.plot(ox2,oy2)"
   ]
  },
  {
   "cell_type": "markdown",
   "metadata": {},
   "source": [
    "вероятность до 190 см примерно 0,95"
   ]
  },
  {
   "cell_type": "code",
   "execution_count": 20,
   "metadata": {},
   "outputs": [
    {
     "data": {
      "text/plain": [
       "0.9540000000000001"
      ]
     },
     "execution_count": 20,
     "metadata": {},
     "output_type": "execute_result"
    }
   ],
   "source": [
    "0.93+0.024"
   ]
  },
  {
   "cell_type": "markdown",
   "metadata": {},
   "source": [
    "по правилу трех сигм, вероятность будет  в пределах $$\\mu - 2\\sigma$$ и $$\\mu + 3\\sigma$$ \n",
    "таким образом 13,6% + 34,1% + 34,1% + 13,6% = 95,4% или **0,954**"
   ]
  },
  {
   "cell_type": "markdown",
   "metadata": {},
   "source": [
    "**6)** какова вероятность того, что случайным образом выбранный взрослый человек имеет рост: не выше 150 см или не ниже 190 см?"
   ]
  },
  {
   "cell_type": "code",
   "execution_count": 21,
   "metadata": {},
   "outputs": [
    {
     "data": {
      "text/plain": [
       "[<matplotlib.lines.Line2D at 0x1b9081e5430>]"
      ]
     },
     "execution_count": 21,
     "metadata": {},
     "output_type": "execute_result"
    },
    {
     "data": {
      "image/png": "[encoded data removed]",
      "text/plain": [
       "<Figure size 432x288 with 1 Axes>"
      ]
     },
     "metadata": {
      "needs_background": "light"
     },
     "output_type": "display_data"
    }
   ],
   "source": [
    "ox1 = np.linspace(0, 150,1000)\n",
    "oy1 = stats.norm.cdf(ox1, loc, scale)\n",
    "plt.grid()\n",
    "plt.plot(ox1,oy1)"
   ]
  },
  {
   "cell_type": "markdown",
   "metadata": {},
   "source": [
    "вероятность примерно 0,0013"
   ]
  },
  {
   "cell_type": "code",
   "execution_count": 22,
   "metadata": {},
   "outputs": [
    {
     "data": {
      "text/plain": [
       "[<matplotlib.lines.Line2D at 0x1b908248820>]"
      ]
     },
     "execution_count": 22,
     "metadata": {},
     "output_type": "execute_result"
    },
    {
     "data": {
      "image/png": "[encoded data removed]",
      "text/plain": [
       "<Figure size 432x288 with 1 Axes>"
      ]
     },
     "metadata": {
      "needs_background": "light"
     },
     "output_type": "display_data"
    }
   ],
   "source": [
    "ox2 = np.linspace(0, 190,1000)\n",
    "oy2 = 1 - stats.norm.cdf(ox2, loc, scale)\n",
    "plt.grid()\n",
    "plt.plot(ox2,oy2)"
   ]
  },
  {
   "cell_type": "markdown",
   "metadata": {},
   "source": [
    "вероятность примерно 0,025"
   ]
  },
  {
   "cell_type": "code",
   "execution_count": 23,
   "metadata": {},
   "outputs": [
    {
     "data": {
      "text/plain": [
       "0.0263"
      ]
     },
     "execution_count": 23,
     "metadata": {},
     "output_type": "execute_result"
    }
   ],
   "source": [
    "0.025+0.0013"
   ]
  },
  {
   "cell_type": "markdown",
   "metadata": {},
   "source": [
    "по правилу трех сигм, вероятность будет  в диапазоне за пределами третьей сигмы и $$\\mu + 3\\sigma$$ и выше \\\n",
    "таким образом 0,1% + 2,3% + 0,1% = 2,5% или **0,025**"
   ]
  },
  {
   "cell_type": "markdown",
   "metadata": {},
   "source": [
    "**7)** какова вероятность того, что случайным образом выбранный взрослый человек имеет рост: не выше 150 см или не ниже 198 см?"
   ]
  },
  {
   "cell_type": "code",
   "execution_count": 24,
   "metadata": {},
   "outputs": [
    {
     "data": {
      "text/plain": [
       "[<matplotlib.lines.Line2D at 0x1b9082af0a0>]"
      ]
     },
     "execution_count": 24,
     "metadata": {},
     "output_type": "execute_result"
    },
    {
     "data": {
      "image/png": "[encoded data removed]",
      "text/plain": [
       "<Figure size 432x288 with 1 Axes>"
      ]
     },
     "metadata": {
      "needs_background": "light"
     },
     "output_type": "display_data"
    }
   ],
   "source": [
    "ox2 = np.linspace(0, 198,1000)\n",
    "oy2 = 1 - stats.norm.cdf(ox2, loc, scale)\n",
    "plt.grid()\n",
    "plt.plot(ox2,oy2)"
   ]
  },
  {
   "cell_type": "markdown",
   "metadata": {},
   "source": [
    "вероятность равна 0"
   ]
  },
  {
   "cell_type": "code",
   "execution_count": 25,
   "metadata": {},
   "outputs": [
    {
     "data": {
      "text/plain": [
       "0.0013"
      ]
     },
     "execution_count": 25,
     "metadata": {},
     "output_type": "execute_result"
    }
   ],
   "source": [
    "0.0013+0"
   ]
  },
  {
   "cell_type": "markdown",
   "metadata": {},
   "source": [
    "по правилу трех сигм, вероятность будет  в диапазоне за пределами - третьей сигмы и за пределами + третьей сигмы\n",
    "таким образом 0,1% + 0,1% = 0,2% или **0,002**"
   ]
  },
  {
   "cell_type": "markdown",
   "metadata": {},
   "source": [
    "**8)** какова вероятность того, что случайным образом выбранный взрослый человек имеет рост: ниже 166 см?"
   ]
  },
  {
   "cell_type": "code",
   "execution_count": 26,
   "metadata": {},
   "outputs": [
    {
     "data": {
      "text/plain": [
       "[<matplotlib.lines.Line2D at 0x1b907fd6190>]"
      ]
     },
     "execution_count": 26,
     "metadata": {},
     "output_type": "execute_result"
    },
    {
     "data": {
      "image/png": "[encoded data removed]",
      "text/plain": [
       "<Figure size 432x288 with 1 Axes>"
      ]
     },
     "metadata": {
      "needs_background": "light"
     },
     "output_type": "display_data"
    }
   ],
   "source": [
    "ox = np.linspace(0, 166,1000)\n",
    "oy = stats.norm.cdf(ox, loc, scale)\n",
    "plt.grid()\n",
    "plt.plot(ox,oy)"
   ]
  },
  {
   "cell_type": "markdown",
   "metadata": {},
   "source": [
    "такая вероятность равна 0,16"
   ]
  },
  {
   "cell_type": "markdown",
   "metadata": {},
   "source": [
    "по правилу трех сигм, вероятность будет  в диапазоне $$\\mu - 2\\sigma$$ и ниже \\\n",
    "таким образом 13,6% + 2,1% + 0,1% = 15,8% или **0,158**"
   ]
  },
  {
   "cell_type": "markdown",
   "metadata": {},
   "source": [
    "**Задача 3 (Дополнительно)**\n",
    "\n",
    "Коробки с шоколадом упаковываются автоматически. Их средняя масса равна 1.06 кг. Известно, что 5% коробок имеют массу, меньшую 1 кг. Найдите: а) среднее квадратическое отклонение массы коробки, б) процент коробок, имеющих массу больше 1.1 кг.\n",
    "\n",
    "Подсказка. 1. Можно считать, что распределение массы коробки нормальное. 2. Найдите такое значение scale, для которого значение cdf(x=1, loc=1.06, scale=scale) близко к 0.05. Точности 0.0001 будет достаточно."
   ]
  },
  {
   "cell_type": "markdown",
   "metadata": {},
   "source": [
    "среднее квадратическое отклонение массы коробки:"
   ]
  },
  {
   "cell_type": "code",
   "execution_count": 45,
   "metadata": {},
   "outputs": [
    {
     "name": "stdout",
     "output_type": "stream",
     "text": [
      "y =  0.0 | n =  0.0001\n",
      "y =  0.0 | n =  0.0002\n",
      "y =  0.0 | n =  0.00030000000000000003\n",
      "y =  0.0 | n =  0.0004\n",
      "y =  0.0 | n =  0.0005\n",
      "y =  0.0 | n =  0.0006000000000000001\n",
      "y =  0.0 | n =  0.0007000000000000001\n",
      "y =  0.0 | n =  0.0008000000000000001\n",
      "y =  0.0 | n =  0.0009000000000000002\n",
      "y =  0.0 | n =  0.0010000000000000002\n",
      "y =  0.0 | n =  0.0011000000000000003\n",
      "y =  0.0 | n =  0.0012000000000000003\n",
      "y =  0.0 | n =  0.0013000000000000004\n",
      "y =  0.0 | n =  0.0014000000000000004\n",
      "y =  0.0 | n =  0.0015000000000000005\n",
      "y =  4.605353009578287e-308 | n =  0.0016000000000000005\n",
      "y =  3.6143214276704007e-273 | n =  0.0017000000000000006\n",
      "y =  6.352273120197637e-244 | n =  0.0018000000000000006\n",
      "y =  3.592137508091813e-219 | n =  0.0019000000000000006\n",
      "y =  4.906713927145114e-198 | n =  0.0020000000000000005\n",
      "y =  7.610161632950828e-180 | n =  0.0021000000000000003\n",
      "y =  4.468099338900495e-164 | n =  0.0022\n",
      "y =  2.563249034907877e-150 | n =  0.0023\n",
      "y =  3.0566967063806463e-138 | n =  0.0024\n",
      "y =  1.3903921185487532e-127 | n =  0.0024999999999999996\n",
      "y =  3.948007141848932e-118 | n =  0.0025999999999999994\n",
      "y =  1.047230140957688e-109 | n =  0.0026999999999999993\n",
      "y =  3.618331565281975e-102 | n =  0.002799999999999999\n",
      "y =  2.1463597702649443e-95 | n =  0.002899999999999999\n",
      "y =  2.7536241186048224e-89 | n =  0.0029999999999999988\n",
      "y =  9.278725777442928e-84 | n =  0.0030999999999999986\n",
      "y =  9.679551479129514e-79 | n =  0.0031999999999999984\n",
      "y =  3.595480350842216e-74 | n =  0.0032999999999999982\n",
      "y =  5.3597672624246065e-70 | n =  0.003399999999999998\n",
      "y =  3.5535467721309797e-66 | n =  0.003499999999999998\n",
      "y =  1.1450742312616293e-62 | n =  0.0035999999999999977\n",
      "y =  1.9366675531781755e-59 | n =  0.0036999999999999976\n",
      "y =  1.8381725602259038e-56 | n =  0.0037999999999999974\n",
      "y =  1.0380322395810411e-53 | n =  0.0038999999999999972\n",
      "y =  3.670966199311492e-51 | n =  0.0039999999999999975\n",
      "y =  8.504859556858427e-49 | n =  0.004099999999999998\n",
      "y =  1.3432042673003336e-46 | n =  0.004199999999999998\n",
      "y =  1.4979318192653799e-44 | n =  0.004299999999999998\n",
      "y =  1.2169909958132817e-42 | n =  0.0043999999999999985\n",
      "y =  7.40641277190558e-41 | n =  0.004499999999999999\n",
      "y =  3.461269579694674e-39 | n =  0.004599999999999999\n",
      "y =  1.2700399729804685e-37 | n =  0.004699999999999999\n",
      "y =  3.7325642988771264e-36 | n =  0.0048\n",
      "y =  8.945097474945304e-35 | n =  0.0049\n",
      "y =  1.7764821120774252e-33 | n =  0.005\n",
      "y =  2.9666377672001913e-32 | n =  0.0051\n",
      "y =  4.221080099958004e-31 | n =  0.005200000000000001\n",
      "y =  5.1788173056987404e-30 | n =  0.005300000000000001\n",
      "y =  5.538625235797606e-29 | n =  0.005400000000000001\n",
      "y =  5.214703332851811e-28 | n =  0.005500000000000001\n",
      "y =  4.3613984229990604e-27 | n =  0.005600000000000002\n",
      "y =  3.2671026385169106e-26 | n =  0.005700000000000002\n",
      "y =  2.2085532470717865e-25 | n =  0.005800000000000002\n",
      "y =  1.3566065589353261e-24 | n =  0.0059000000000000025\n",
      "y =  7.619853024160198e-24 | n =  0.006000000000000003\n",
      "y =  3.9364846623918686e-23 | n =  0.006100000000000003\n",
      "y =  1.8804457471983629e-22 | n =  0.006200000000000003\n",
      "y =  8.347217042670555e-22 | n =  0.0063000000000000035\n",
      "y =  3.4587884872334554e-21 | n =  0.006400000000000004\n",
      "y =  1.3434762239272783e-20 | n =  0.006500000000000004\n",
      "y =  4.9107183993402173e-20 | n =  0.006600000000000004\n",
      "y =  1.6952345352755042e-19 | n =  0.0067000000000000046\n",
      "y =  5.545377319492212e-19 | n =  0.006800000000000005\n",
      "y =  1.7242165276635318e-18 | n =  0.006900000000000005\n",
      "y =  5.110455258961586e-18 | n =  0.007000000000000005\n",
      "y =  1.4477547142776512e-17 | n =  0.007100000000000006\n",
      "y =  3.929873434851008e-17 | n =  0.007200000000000006\n",
      "y =  1.0245129498894808e-16 | n =  0.007300000000000006\n",
      "y =  2.570699209050644e-16 | n =  0.007400000000000006\n",
      "y =  6.22096057427174e-16 | n =  0.007500000000000007\n",
      "y =  1.4546421575778926e-15 | n =  0.007600000000000007\n",
      "y =  3.292416229398612e-15 | n =  0.007700000000000007\n",
      "y =  7.225229227926481e-15 | n =  0.0078000000000000074\n",
      "y =  1.5397145450296685e-14 | n =  0.007900000000000008\n",
      "y =  3.1908916729108844e-14 | n =  0.008000000000000007\n",
      "y =  6.439617242243008e-14 | n =  0.008100000000000007\n",
      "y =  1.2671883928187843e-13 | n =  0.008200000000000006\n",
      "y =  2.4343282401869356e-13 | n =  0.008300000000000005\n",
      "y =  4.570530827193305e-13 | n =  0.008400000000000005\n",
      "y =  8.395907786037618e-13 | n =  0.008500000000000004\n",
      "y =  1.5104952568382692e-12 | n =  0.008600000000000003\n",
      "y =  2.6639985826676088e-12 | n =  0.008700000000000003\n",
      "y =  4.609995519296405e-12 | n =  0.008800000000000002\n",
      "y =  7.834047151589499e-12 | n =  0.008900000000000002\n",
      "y =  1.3083924686052561e-11 | n =  0.009000000000000001\n",
      "y =  2.149236192299587e-11 | n =  0.0091\n",
      "y =  3.474840563815347e-11 | n =  0.0092\n",
      "y =  5.5332978537411675e-11 | n =  0.0093\n",
      "y =  8.683802237941177e-11 | n =  0.009399999999999999\n",
      "y =  1.3439287525333507e-10 | n =  0.009499999999999998\n",
      "y =  2.0522634252188354e-10 | n =  0.009599999999999997\n",
      "y =  3.0939820815541233e-10 | n =  0.009699999999999997\n",
      "y =  4.6073963957567537e-10 | n =  0.009799999999999996\n",
      "y =  6.780479761696368e-10 | n =  0.009899999999999996\n",
      "y =  9.865876450376476e-10 | n =  0.009999999999999995\n",
      "y =  1.4199552787670577e-09 | n =  0.010099999999999994\n",
      "y =  2.022373359042931e-09 | n =  0.010199999999999994\n",
      "y =  2.8514826991462352e-09 | n =  0.010299999999999993\n",
      "y =  3.981709617702703e-09 | n =  0.010399999999999993\n",
      "y =  5.508288548519418e-09 | n =  0.010499999999999992\n",
      "y =  7.552024879692941e-09 | n =  0.010599999999999991\n",
      "y =  1.0264885828390458e-08 | n =  0.01069999999999999\n",
      "y =  1.3836508957768015e-08 | n =  0.01079999999999999\n",
      "y =  1.850171837072172e-08 | n =  0.01089999999999999\n",
      "y =  2.454913753806987e-08 | n =  0.010999999999999989\n",
      "y =  3.2330985033025304e-08 | n =  0.011099999999999988\n",
      "y =  4.2274135080365327e-08 | n =  0.011199999999999988\n",
      "y =  5.4892518755546427e-08 | n =  0.011299999999999987\n",
      "y =  7.080093389299336e-08 | n =  0.011399999999999987\n",
      "y =  9.073032232987625e-08 | n =  0.011499999999999986\n",
      "y =  1.155445621063528e-07 | n =  0.011599999999999985\n",
      "y =  1.4625880978626673e-07 | n =  0.011699999999999985\n",
      "y =  1.8405941430796e-07 | n =  0.011799999999999984\n",
      "y =  2.3032540890693063e-07 | n =  0.011899999999999984\n",
      "y =  2.8665157187917597e-07 | n =  0.011999999999999983\n",
      "y =  3.548730305045875e-07 | n =  0.012099999999999982\n",
      "y =  4.370913655661633e-07 | n =  0.012199999999999982\n",
      "y =  5.357021568341356e-07 | n =  0.012299999999999981\n",
      "y =  6.534238928880346e-07 | n =  0.01239999999999998\n",
      "y =  7.933281519755449e-07 | n =  0.01249999999999998\n",
      "y =  9.588709444975502e-07 | n =  0.01259999999999998\n",
      "y =  1.1539250923951462e-06 | n =  0.012699999999999979\n",
      "y =  1.3828135064100042e-06 | n =  0.012799999999999978\n",
      "y =  1.6503432090879756e-06 | n =  0.012899999999999977\n",
      "y =  1.9618399396675006e-06 | n =  0.012999999999999977\n",
      "y =  2.3231831667837598e-06 | n =  0.013099999999999976\n",
      "y =  2.7408413263448706e-06 | n =  0.013199999999999976\n",
      "y =  3.2219070950866553e-06 | n =  0.013299999999999975\n",
      "y =  3.7741325052506113e-06 | n =  0.013399999999999974\n",
      "y =  4.40596370258894e-06 | n =  0.013499999999999974\n",
      "y =  5.126575148487574e-06 | n =  0.013599999999999973\n",
      "y =  5.945903067396646e-06 | n =  0.013699999999999973\n",
      "y =  6.874677942922059e-06 | n =  0.013799999999999972\n",
      "y =  7.924455869802377e-06 | n =  0.013899999999999971\n",
      "y =  9.107648574483478e-06 | n =  0.01399999999999997\n",
      "y =  1.0437551924013893e-05 | n =  0.01409999999999997\n",
      "y =  1.1928372751397499e-05 | n =  0.01419999999999997\n",
      "y =  1.3595253835231896e-05 | n =  0.014299999999999969\n",
      "y =  1.5454296882295154e-05 | n =  0.014399999999999968\n",
      "y =  1.7522583373577302e-05 | n =  0.014499999999999968\n",
      "y =  1.981819314693527e-05 | n =  0.014599999999999967\n",
      "y =  2.2360220602940455e-05 | n =  0.014699999999999967\n",
      "y =  2.5168788434425278e-05 | n =  0.014799999999999966\n",
      "y =  2.826505879458765e-05 | n =  0.014899999999999965\n",
      "y =  3.1671241833118135e-05 | n =  0.014999999999999965\n",
      "y =  3.541060154455674e-05 | n =  0.015099999999999964\n",
      "y =  3.950745888781399e-05 | n =  0.015199999999999964\n",
      "y =  4.398719215039986e-05 | n =  0.015299999999999963\n",
      "y =  4.887623454525892e-05 | n =  0.015399999999999962\n",
      "y =  5.420206904212726e-05 | n =  0.015499999999999962\n",
      "y =  5.999322044889645e-05 | n =  0.015599999999999961\n",
      "y =  6.62792447715042e-05 | n =  0.01569999999999996\n",
      "y =  7.309071589331736e-05 | n =  0.01579999999999996\n",
      "y =  8.045920962673608e-05 | n =  0.01589999999999996\n",
      "y =  8.841728520079917e-05 | n =  0.01599999999999996\n",
      "y =  9.699846425885083e-05 | n =  0.016099999999999958\n",
      "y =  0.0001062372074498091 | n =  0.016199999999999957\n",
      "y =  0.00011616888870523805 | n =  0.016299999999999957\n",
      "y =  0.00012682976730222625 | n =  0.016399999999999956\n",
      "y =  0.00013825695781905043 | n =  0.016499999999999956\n",
      "y =  0.0001504883980967025 | n =  0.016599999999999955\n",
      "y =  0.00016356281532462936 | n =  0.016699999999999954\n",
      "y =  0.00017751969037346183 | n =  0.016799999999999954\n",
      "y =  0.00019239922050113528 | n =  0.016899999999999953\n",
      "y =  0.0002082422805616114 | n =  0.016999999999999953\n",
      "y =  0.00022509038284749598 | n =  0.017099999999999952\n",
      "y =  0.000242985635699158 | n =  0.01719999999999995\n",
      "y =  0.0002619707010135779 | n =  0.01729999999999995\n",
      "y =  0.0002820887507861562 | n =  0.01739999999999995\n",
      "y =  0.0003033834228180169 | n =  0.01749999999999995\n",
      "y =  0.00032589877572012683 | n =  0.01759999999999995\n",
      "y =  0.00034967924334377876 | n =  0.01769999999999995\n",
      "y =  0.00037476958876470783 | n =  0.017799999999999948\n",
      "y =  0.00040121485794537305 | n =  0.017899999999999947\n",
      "y =  0.000429060333196817 | n =  0.017999999999999947\n",
      "y =  0.0004583514865579919 | n =  0.018099999999999946\n",
      "y =  0.0004891339332065935 | n =  0.018199999999999945\n",
      "y =  0.0005214533850113501 | n =  0.018299999999999945\n",
      "y =  0.000555355604331288 | n =  0.018399999999999944\n",
      "y =  0.0005908863581629504 | n =  0.018499999999999944\n",
      "y =  0.000628091372731763 | n =  0.018599999999999943\n",
      "y =  0.0006670162886188192 | n =  0.018699999999999942\n",
      "y =  0.0007077066165093843 | n =  0.018799999999999942\n",
      "y =  0.0007502076936442876 | n =  0.01889999999999994\n",
      "y =  0.0007945646410502647 | n =  0.01899999999999994\n",
      "y =  0.0008408223216201039 | n =  0.01909999999999994\n",
      "y =  0.0008890252991083935 | n =  0.01919999999999994\n",
      "y =  0.0009392177981033966 | n =  0.01929999999999994\n",
      "y =  0.0009914436650306487 | n =  0.019399999999999938\n",
      "y =  0.0010457463302387129 | n =  0.019499999999999938\n",
      "y =  0.0011021687712127887 | n =  0.019599999999999937\n",
      "y =  0.0011607534769568128 | n =  0.019699999999999936\n",
      "y =  0.0012215424135802017 | n =  0.019799999999999936\n",
      "y =  0.001284576991120645 | n =  0.019899999999999935\n",
      "y =  0.001349898031630037 | n =  0.019999999999999934\n",
      "y =  0.00141754573854621 | n =  0.020099999999999934\n",
      "y =  0.0014875596673691246 | n =  0.020199999999999933\n",
      "y =  0.0015599786976560734 | n =  0.020299999999999933\n",
      "y =  0.001634841006346778 | n =  0.020399999999999932\n",
      "y =  0.0017121840424254736 | n =  0.02049999999999993\n",
      "y =  0.001792044502923703 | n =  0.02059999999999993\n",
      "y =  0.0018744583102642438 | n =  0.02069999999999993\n",
      "y =  0.0019594605909434406 | n =  0.02079999999999993\n",
      "y =  0.002047085655546353 | n =  0.02089999999999993\n",
      "y =  0.0021373669800861996 | n =  0.02099999999999993\n",
      "y =  0.002230337188657269 | n =  0.021099999999999928\n",
      "y =  0.002326028037387772 | n =  0.021199999999999927\n",
      "y =  0.0024244703996770174 | n =  0.021299999999999927\n",
      "y =  0.002525694252699225 | n =  0.021399999999999926\n",
      "y =  0.0026297286651542785 | n =  0.021499999999999925\n",
      "y =  0.0027366017862440377 | n =  0.021599999999999925\n",
      "y =  0.0028463408358512456 | n =  0.021699999999999924\n",
      "y =  0.002958972095896452 | n =  0.021799999999999924\n",
      "y =  0.0030745209028473428 | n =  0.021899999999999923\n",
      "y =  0.003193011641353407 | n =  0.021999999999999922\n",
      "y =  0.0033144677389779944 | n =  0.022099999999999922\n",
      "y =  0.0034389116619988887 | n =  0.02219999999999992\n",
      "y =  0.0035663649122477156 | n =  0.02229999999999992\n",
      "y =  0.003696848024957793 | n =  0.02239999999999992\n",
      "y =  0.0038303805675896 | n =  0.02249999999999992\n",
      "y =  0.003966981139602374 | n =  0.02259999999999992\n",
      "y =  0.004106667373140283 | n =  0.022699999999999918\n",
      "y =  0.004249455934601014 | n =  0.022799999999999918\n",
      "y =  0.004395362527054813 | n =  0.022899999999999917\n",
      "y =  0.004544401893481647 | n =  0.022999999999999916\n",
      "y =  0.0046965878207942315 | n =  0.023099999999999916\n",
      "y =  0.004851933144614916 | n =  0.023199999999999915\n",
      "y =  0.005010449754774126 | n =  0.023299999999999915\n",
      "y =  0.005172148601498862 | n =  0.023399999999999914\n",
      "y =  0.0053370397022594225 | n =  0.023499999999999913\n",
      "y =  0.005505132149243182 | n =  0.023599999999999913\n",
      "y =  0.005676434117424645 | n =  0.023699999999999912\n",
      "y =  0.005850952873201073 | n =  0.02379999999999991\n",
      "y =  0.006028694783563846 | n =  0.02389999999999991\n",
      "y =  0.006209665325775928 | n =  0.02399999999999991\n",
      "y =  0.006393869097526494 | n =  0.02409999999999991\n",
      "y =  0.006581309827534081 | n =  0.02419999999999991\n",
      "y =  0.006771990386570674 | n =  0.02429999999999991\n",
      "y =  0.006965912798879111 | n =  0.024399999999999908\n",
      "y =  0.007163078253957519 | n =  0.024499999999999907\n",
      "y =  0.007363487118684446 | n =  0.024599999999999907\n",
      "y =  0.007567138949759605 | n =  0.024699999999999906\n",
      "y =  0.007774032506435381 | n =  0.024799999999999905\n",
      "y =  0.00798416576351528 | n =  0.024899999999999905\n",
      "y =  0.008197535924595871 | n =  0.024999999999999904\n",
      "y =  0.00841413943552976 | n =  0.025099999999999904\n",
      "y =  0.008633971998087544 | n =  0.025199999999999903\n",
      "y =  0.008857028583797798 | n =  0.025299999999999902\n",
      "y =  0.009083303447944334 | n =  0.025399999999999902\n",
      "y =  0.009312790143701143 | n =  0.0254999999999999\n",
      "y =  0.009545481536385864 | n =  0.0255999999999999\n",
      "y =  0.009781369817813374 | n =  0.0256999999999999\n",
      "y =  0.01002044652073186 | n =  0.0257999999999999\n",
      "y =  0.010262702533324302 | n =  0.0258999999999999\n",
      "y =  0.010508128113759032 | n =  0.025999999999999898\n",
      "y =  0.010756712904773749 | n =  0.026099999999999898\n",
      "y =  0.01100844594827797 | n =  0.026199999999999897\n",
      "y =  0.011263315699959362 | n =  0.026299999999999896\n",
      "y =  0.011521310043880599 | n =  0.026399999999999896\n",
      "y =  0.011782416307053224 | n =  0.026499999999999895\n",
      "y =  0.012046621273976392 | n =  0.026599999999999895\n",
      "y =  0.01231391120112825 | n =  0.026699999999999894\n",
      "y =  0.012584271831398973 | n =  0.026799999999999893\n",
      "y =  0.012857688408454478 | n =  0.026899999999999893\n",
      "y =  0.013134145691020768 | n =  0.026999999999999892\n",
      "y =  0.013413627967079223 | n =  0.02709999999999989\n",
      "y =  0.013696119067963855 | n =  0.02719999999999989\n",
      "y =  0.013981602382351683 | n =  0.02729999999999989\n",
      "y =  0.014270060870138497 | n =  0.02739999999999989\n",
      "y =  0.014561477076192108 | n =  0.02749999999999989\n",
      "y =  0.014855833143976297 | n =  0.02759999999999989\n",
      "y =  0.01515311082903831 | n =  0.027699999999999888\n",
      "y =  0.015453291512354401 | n =  0.027799999999999887\n",
      "y =  0.015756356213526883 | n =  0.027899999999999887\n",
      "y =  0.016062285603827883 | n =  0.027999999999999886\n",
      "y =  0.016371060019084633 | n =  0.028099999999999885\n",
      "y =  0.016682659472401603 | n =  0.028199999999999885\n",
      "y =  0.016997063666715575 | n =  0.028299999999999884\n",
      "y =  0.017314252007179485 | n =  0.028399999999999884\n",
      "y =  0.01763420361337184 | n =  0.028499999999999883\n",
      "y =  0.01795689733132833 | n =  0.028599999999999882\n",
      "y =  0.018282311745392923 | n =  0.028699999999999882\n",
      "y =  0.01861042518988587 | n =  0.02879999999999988\n",
      "y =  0.018941215760586393 | n =  0.02889999999999988\n",
      "y =  0.019274661326028154 | n =  0.02899999999999988\n",
      "y =  0.01961073953860562 | n =  0.02909999999999988\n",
      "y =  0.019949427845490305 | n =  0.02919999999999988\n",
      "y =  0.02029070349935526 | n =  0.029299999999999878\n",
      "y =  0.020634543568907225 | n =  0.029399999999999878\n",
      "y =  0.020980924949225543 | n =  0.029499999999999877\n",
      "y =  0.021329824371907377 | n =  0.029599999999999876\n",
      "y =  0.021681218415019098 | n =  0.029699999999999876\n",
      "y =  0.022035083512853416 | n =  0.029799999999999875\n",
      "y =  0.02239139596549274 | n =  0.029899999999999875\n",
      "y =  0.02275013194817864 | n =  0.029999999999999874\n",
      "y =  0.023111267520488327 | n =  0.030099999999999873\n",
      "y =  0.023474778635318105 | n =  0.030199999999999873\n",
      "y =  0.023840641147675222 | n =  0.030299999999999872\n",
      "y =  0.02420883082327847 | n =  0.03039999999999987\n",
      "y =  0.024579323346968784 | n =  0.03049999999999987\n",
      "y =  0.02495209433093099 | n =  0.03059999999999987\n",
      "y =  0.02532711932272784 | n =  0.03069999999999987\n",
      "y =  0.02570437381314781 | n =  0.03079999999999987\n",
      "y =  0.026083833243868093 | n =  0.03089999999999987\n",
      "y =  0.026465473014934314 | n =  0.030999999999999868\n",
      "y =  0.026849268492058643 | n =  0.031099999999999867\n",
      "y =  0.027235195013738087 | n =  0.031199999999999867\n",
      "y =  0.027623227898194682 | n =  0.03129999999999987\n",
      "y =  0.02801334245013964 | n =  0.03139999999999987\n",
      "y =  0.028405513967363193 | n =  0.031499999999999875\n",
      "y =  0.028799717747152172 | n =  0.03159999999999988\n",
      "y =  0.02919592909253773 | n =  0.03169999999999988\n",
      "y =  0.029594123318374806 | n =  0.031799999999999884\n",
      "y =  0.029994275757255787 | n =  0.03189999999999989\n",
      "y =  0.03039636176526081 | n =  0.03199999999999989\n",
      "y =  0.030800356727546253 | n =  0.03209999999999989\n",
      "y =  0.031206236063774505 | n =  0.032199999999999895\n",
      "y =  0.03161397523338667 | n =  0.0322999999999999\n",
      "y =  0.032023549740720976 | n =  0.0323999999999999\n",
      "y =  0.03243493513997907 | n =  0.032499999999999904\n",
      "y =  0.032848107040042325 | n =  0.03259999999999991\n",
      "y =  0.03326304110914136 | n =  0.03269999999999991\n",
      "y =  0.03367971307937991 | n =  0.03279999999999991\n",
      "y =  0.03409809875111675 | n =  0.032899999999999915\n",
      "y =  0.03451817399720716 | n =  0.03299999999999992\n",
      "y =  0.034939914767106894 | n =  0.03309999999999992\n",
      "y =  0.035363297090840774 | n =  0.033199999999999924\n",
      "y =  0.03578829708283851 | n =  0.03329999999999993\n",
      "y =  0.036214890945639934 | n =  0.03339999999999993\n",
      "y =  0.03664305497347249 | n =  0.03349999999999993\n",
      "y =  0.03707276555570301 | n =  0.033599999999999935\n",
      "y =  0.037503999180166094 | n =  0.03369999999999994\n",
      "y =  0.03793673243637201 | n =  0.03379999999999994\n",
      "y =  0.03837094201859581 | n =  0.033899999999999944\n",
      "y =  0.03880660472885084 | n =  0.03399999999999995\n",
      "y =  0.03924369747974789 | n =  0.03409999999999995\n",
      "y =  0.0396821972972436 | n =  0.03419999999999995\n",
      "y =  0.04012208132327915 | n =  0.034299999999999956\n",
      "y =  0.04056332681831275 | n =  0.03439999999999996\n",
      "y =  0.041005911163747244 | n =  0.03449999999999996\n",
      "y =  0.04144981186425544 | n =  0.034599999999999964\n",
      "y =  0.041895006550005595 | n =  0.03469999999999997\n",
      "y =  0.042341472978788916 | n =  0.03479999999999997\n",
      "y =  0.04278918903805145 | n =  0.03489999999999997\n",
      "y =  0.04323813274683255 | n =  0.034999999999999976\n",
      "y =  0.04368828225761183 | n =  0.03509999999999998\n",
      "y =  0.04413961585806708 | n =  0.03519999999999998\n",
      "y =  0.04459211197274473 | n =  0.035299999999999984\n",
      "y =  0.0450457491646454 | n =  0.03539999999999999\n",
      "y =  0.045500506136726446 | n =  0.03549999999999999\n",
      "y =  0.04595636173332302 | n =  0.03559999999999999\n",
      "y =  0.046413294941490525 | n =  0.035699999999999996\n",
      "y =  0.046871284892269494 | n =  0.0358\n",
      "y =  0.04733031086187529 | n =  0.0359\n",
      "y =  0.04779035227281459 | n =  0.036000000000000004\n",
      "y =  0.048251388694930106 | n =  0.03610000000000001\n",
      "y =  0.04871339984637591 | n =  0.03620000000000001\n",
      "y =  0.04917636559452452 | n =  0.03630000000000001\n",
      "y =  0.04964026595680803 | n =  0.036400000000000016\n",
      "y =  0.05010508110149503 | n =  0.03650000000000002\n"
     ]
    }
   ],
   "source": [
    "n = 0.0001 \n",
    "y = 0\n",
    "while y <= 0.05:\n",
    "    y = stats.norm.cdf(x=1, loc=1.06, scale=n)\n",
    "    print('y = ', y,  '|' , 'n = ', n)\n",
    "    n+=0.0001"
   ]
  },
  {
   "cell_type": "markdown",
   "metadata": {},
   "source": [
    "Параметр scale будет равен 0,0365"
   ]
  },
  {
   "cell_type": "code",
   "execution_count": 46,
   "metadata": {},
   "outputs": [
    {
     "data": {
      "text/plain": [
       "0.05010508110149495"
      ]
     },
     "execution_count": 46,
     "metadata": {},
     "output_type": "execute_result"
    }
   ],
   "source": [
    "oy = stats.norm.cdf(x=1, loc=1.06, scale=0.0365)\n",
    "oy"
   ]
  },
  {
   "cell_type": "code",
   "execution_count": 51,
   "metadata": {},
   "outputs": [
    {
     "data": {
      "text/plain": [
       "[<matplotlib.lines.Line2D at 0x1b9085a9eb0>]"
      ]
     },
     "execution_count": 51,
     "metadata": {},
     "output_type": "execute_result"
    },
    {
     "data": {
      "image/png": "[encoded data removed]",
      "text/plain": [
       "<Figure size 432x288 with 1 Axes>"
      ]
     },
     "metadata": {
      "needs_background": "light"
     },
     "output_type": "display_data"
    }
   ],
   "source": [
    "ox = np.linspace(0, 1.1,100)\n",
    "oy = 1 - stats.norm.cdf(ox, loc=1.06, scale=0.0365)\n",
    "plt.grid()\n",
    "plt.plot(ox,oy)"
   ]
  },
  {
   "cell_type": "markdown",
   "metadata": {},
   "source": [
    "мат.ожидание 1,06 а сигма = 0,0365. чтобы найти вероятность того, что коробка будет больше 1,1 кг по правилам трех сигм 1,1 кг попадает в диапазон двух сигм, значит 13,6% + 2,1% + 0,1% = 15,8%. На графике также видим, что значение примерно равно 0,15 или 15% \\\n",
    "\\\n",
    "**Ответ:** \\\n",
    "а) среднее квадратическое отклонение массы коробки 0.0365 \\\n",
    "б) процент коробок, имеющих массу больше 1.1 кг 15,8%"
   ]
  }
 ],
 "metadata": {
  "kernelspec": {
   "display_name": "Python 3",
   "language": "python",
   "name": "python3"
  },
  "language_info": {
   "codemirror_mode": {
    "name": "ipython",
    "version": 3
   },
   "file_extension": ".py",
   "mimetype": "text/x-python",
   "name": "python",
   "nbconvert_exporter": "python",
   "pygments_lexer": "ipython3",
   "version": "3.8.5"
  }
 },
 "nbformat": 4,
 "nbformat_minor": 4
}
