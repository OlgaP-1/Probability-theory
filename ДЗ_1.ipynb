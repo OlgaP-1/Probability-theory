{
 "cells": [
  {
   "cell_type": "code",
   "execution_count": 1,
   "metadata": {},
   "outputs": [],
   "source": [
    "from math import factorial"
   ]
  },
  {
   "cell_type": "markdown",
   "metadata": {},
   "source": [
    "<h4> Задача 1</h4>\n",
    "\n",
    "Группа студентов изучает 10 различных дисциплин. Сколькими способами можно составить расписание на понедельник, если в этот день должно быть 4 разных занятия?"
   ]
  },
  {
   "cell_type": "markdown",
   "metadata": {},
   "source": [
    "Т.к. нам нужны только 4 предмета из 10 и нам не важно каким будет расположение друг относительно друга, значит это способ сочетаний"
   ]
  },
  {
   "cell_type": "code",
   "execution_count": 2,
   "metadata": {},
   "outputs": [],
   "source": [
    "def combinations(n, k):\n",
    "    return int(factorial(n) / (factorial(k) * factorial(n - k)))"
   ]
  },
  {
   "cell_type": "code",
   "execution_count": 3,
   "metadata": {},
   "outputs": [
    {
     "data": {
      "text/plain": [
       "210"
      ]
     },
     "execution_count": 3,
     "metadata": {},
     "output_type": "execute_result"
    }
   ],
   "source": [
    "combinations(10, 4)"
   ]
  },
  {
   "cell_type": "markdown",
   "metadata": {},
   "source": [
    "**Задача 2**\n",
    "\n",
    "Из колоды в 52 карты вынимают случайным образом 4 карты. Найти число исходов, соответствующих тому, что был вытянут хотя бы один туз."
   ]
  },
  {
   "cell_type": "markdown",
   "metadata": {},
   "source": [
    "Чтобы решить эту задачу, нужно сначала рассмотреть ситуацию, когда выбирается 1 туз из четырех.\n",
    "\n",
    "Число таких сочетаний будет равно:"
   ]
  },
  {
   "cell_type": "code",
   "execution_count": 4,
   "metadata": {},
   "outputs": [
    {
     "data": {
      "text/plain": [
       "4"
      ]
     },
     "execution_count": 4,
     "metadata": {},
     "output_type": "execute_result"
    }
   ],
   "source": [
    "combinations(4, 1)"
   ]
  },
  {
   "cell_type": "markdown",
   "metadata": {},
   "source": [
    "Остальные три карты выбираются из 48 карт  — тузы не рассматриваются, так как они уже выбраны.Таких  сочетаний получилось:"
   ]
  },
  {
   "cell_type": "code",
   "execution_count": 5,
   "metadata": {},
   "outputs": [
    {
     "data": {
      "text/plain": [
       "17296"
      ]
     },
     "execution_count": 5,
     "metadata": {},
     "output_type": "execute_result"
    }
   ],
   "source": [
    "combinations(48, 3)"
   ]
  },
  {
   "cell_type": "markdown",
   "metadata": {},
   "source": [
    "И тогда будет такое число сочетаний, когда из колоды в 52 карты выбраны четыре, одна из которых — туз:"
   ]
  },
  {
   "cell_type": "code",
   "execution_count": 6,
   "metadata": {},
   "outputs": [
    {
     "data": {
      "text/plain": [
       "69184"
      ]
     },
     "execution_count": 6,
     "metadata": {},
     "output_type": "execute_result"
    }
   ],
   "source": [
    "combinations(4, 1)*combinations(48, 3)"
   ]
  },
  {
   "cell_type": "markdown",
   "metadata": {},
   "source": [
    "**Задача 3**\n",
    "\n",
    "Семь человек рассаживаются наудачу на скамейке. Какова вероятность того, что два определённых человека будут сидеть рядом?"
   ]
  },
  {
   "cell_type": "markdown",
   "metadata": {},
   "source": [
    " Считаю, что задача является совместной, значие из суммы вероятностей отдельных событий вычитается вероятность их совместного появления."
   ]
  },
  {
   "cell_type": "markdown",
   "metadata": {},
   "source": [
    "$$P(А+B) = \\frac{1}{7} + \\frac{1}{7} - (\\frac{1}{7}*\\frac{1}{7}) = \\frac{2}{7} - \\frac{1}{14} = \\frac{3}{14} \\approx 0.214$$\n"
   ]
  },
  {
   "cell_type": "markdown",
   "metadata": {},
   "source": [
    "**Задача 4**\n",
    "\n",
    "Из 60 вопросов, входящих в экзаменационные билеты, студент знает 50. Какова вероятность того, что среди трёх наугад выбранных вопросов студент знает: а) все? б) два?"
   ]
  },
  {
   "cell_type": "markdown",
   "metadata": {},
   "source": [
    "**a)** Разобьем 60 билетов на 50 - которые сутдент знает, и 10 - оставшиеся, которые не знает. Нужно узнать вероятность, что среди выбранных он знает все, т.е. из 50 билетов выбрать 3. Вероятность будем находить по фрмуле: $$P(A) = \\frac{m}{n}$$\n",
    "\n"
   ]
  },
  {
   "cell_type": "markdown",
   "metadata": {},
   "source": [
    "для этого, найдем общее число событий по фрмуле"
   ]
  },
  {
   "cell_type": "markdown",
   "metadata": {},
   "source": [
    "$$C_n^m = \\frac{n!}{m!(n-m)!}$$, получаем $$n = C_{60}^3 = \\frac{60!}{3!(60-3)!} = 34220$$ или"
   ]
  },
  {
   "cell_type": "code",
   "execution_count": 7,
   "metadata": {},
   "outputs": [
    {
     "data": {
      "text/plain": [
       "34220"
      ]
     },
     "execution_count": 7,
     "metadata": {},
     "output_type": "execute_result"
    }
   ],
   "source": [
    "combinations(60, 3)"
   ]
  },
  {
   "cell_type": "markdown",
   "metadata": {},
   "source": [
    "(m\\)  - число элементарных исходов, благоприятствующих событию \\(A\\), будем искать по формуле сочетаний $$m = C_{50}^3 = \\frac{50!}{3!47!} = 19600$$"
   ]
  },
  {
   "cell_type": "code",
   "execution_count": 8,
   "metadata": {},
   "outputs": [
    {
     "data": {
      "text/plain": [
       "19600"
      ]
     },
     "execution_count": 8,
     "metadata": {},
     "output_type": "execute_result"
    }
   ],
   "source": [
    "combinations(50, 3)"
   ]
  },
  {
   "cell_type": "markdown",
   "metadata": {},
   "source": [
    "подставляем в формулу вероятности $$P(A) = \\frac{m}{n} = \\frac{19600}{34220} = 0.573$$\n"
   ]
  },
  {
   "cell_type": "markdown",
   "metadata": {},
   "source": [
    "***Ответ (а):*** вероятность того, что среди наугад выбранных трёх вопросов студент знает все три равна $$P(A) = 0.573$$ "
   ]
  },
  {
   "cell_type": "markdown",
   "metadata": {},
   "source": [
    "б) Таким же образом найдем верояность для 2 билетов из 50, которые студент знает. **и** для 1 из 10, которые не знает.Таким образом получится:"
   ]
  },
  {
   "cell_type": "markdown",
   "metadata": {},
   "source": [
    "(m\\) - число элементарных исходов, благоприятствующих событию для 2 карт из тех что знает равно:"
   ]
  },
  {
   "cell_type": "code",
   "execution_count": 9,
   "metadata": {},
   "outputs": [
    {
     "data": {
      "text/plain": [
       "1225"
      ]
     },
     "execution_count": 9,
     "metadata": {},
     "output_type": "execute_result"
    }
   ],
   "source": [
    "combinations(50, 2)"
   ]
  },
  {
   "cell_type": "markdown",
   "metadata": {},
   "source": [
    "число исходов, для 1 карты из тех что не знает, равно:"
   ]
  },
  {
   "cell_type": "code",
   "execution_count": 10,
   "metadata": {},
   "outputs": [
    {
     "data": {
      "text/plain": [
       "10"
      ]
     },
     "execution_count": 10,
     "metadata": {},
     "output_type": "execute_result"
    }
   ],
   "source": [
    "combinations(10, 1)"
   ]
  },
  {
   "cell_type": "markdown",
   "metadata": {},
   "source": [
    "находим произведение исходов:"
   ]
  },
  {
   "cell_type": "code",
   "execution_count": 11,
   "metadata": {},
   "outputs": [
    {
     "name": "stdout",
     "output_type": "stream",
     "text": [
      "12250\n"
     ]
    }
   ],
   "source": [
    "m = combinations(50, 2) * combinations(10, 1)\n",
    "print(m)"
   ]
  },
  {
   "cell_type": "markdown",
   "metadata": {},
   "source": [
    "подставляем в формулу вероятности $$P(A) = \\frac{m}{n} = \\frac{12250}{34220} = 0.35798$$"
   ]
  },
  {
   "cell_type": "markdown",
   "metadata": {},
   "source": [
    "***Ответ (б):*** вероятность того, что среди наугад выбранных трёх вопросов студент знает 2 равна $$P(A) = 0.358$$ "
   ]
  },
  {
   "cell_type": "markdown",
   "metadata": {},
   "source": [
    "**Задача 5**\n",
    "\n",
    "Бросается игральная кость. Пусть событие A - появление чётного числа, событие B - появление числа больше трёх. Являются ли эти события независимыми?"
   ]
  },
  {
   "cell_type": "markdown",
   "metadata": {},
   "source": [
    "*считаю, что события являются зависимыми, т.к. четное число и число больше 3 может произойти одновременно на одном кубике, например, может выпасть число 4 или 6*"
   ]
  },
  {
   "cell_type": "markdown",
   "metadata": {},
   "source": [
    "чтобы проверить найдем Р(А) и Р(А|B), если значения будут равны, значит события независимые."
   ]
  },
  {
   "cell_type": "markdown",
   "metadata": {},
   "source": [
    "$$P(A) = \\frac{1}{6} + \\frac{1}{6} + \\frac{1}{6} = \\frac{1}{2} = 0.5$$"
   ]
  },
  {
   "cell_type": "markdown",
   "metadata": {},
   "source": [
    "числа больше трех(4,5,6) для каждого числа вероятность будет 1/6. Предположим, что собыите А произошло и выпало четное число\n"
   ]
  },
  {
   "cell_type": "markdown",
   "metadata": {},
   "source": [
    "$$P(В|A) = \\frac{1}{6} + \\frac{1}{6} = \\frac{1}{3} \\approx 0.33$$"
   ]
  },
  {
   "cell_type": "markdown",
   "metadata": {},
   "source": [
    "**Ответ:** события являются зависимыми"
   ]
  },
  {
   "cell_type": "markdown",
   "metadata": {},
   "source": [
    "**Задача 6 (Дополнительно)**\n",
    "\n",
    "Допустим, имеется некоторая очень редкая болезнь (поражает 0.1 % населения). Вы приходите к врачу, вам делают тест на эту болезнь, и тест оказывается положительным. Врач говорит вам, что этот тест верно выявляет 99 % больных этой болезнью и всего лишь в 1 % случаев даёт ложный положительный ответ.\n",
    "\n",
    "Вопрос: какова вероятность, что вы действительно больны ей?\n",
    "\n",
    "Подсказка: вновь используйте формулу Байеса с раскрытием знаменателя с помощью формулы полной вероятности."
   ]
  },
  {
   "cell_type": "markdown",
   "metadata": {},
   "source": [
    "Предположим, что событие А - пациент заболел. Для каждого человека возможность зарожения составляет P(A|B) = 1/1000 или 0,1%. P(B1) - вероятность что пациент болен 99/100 или 99%, а вероятность, что тест ложный Р(В2)=1/100."
   ]
  },
  {
   "cell_type": "markdown",
   "metadata": {},
   "source": [
    "$$P(B\\:|\\:A) = \\frac{P(A\\:|\\:B) \\cdot P(B)}{P(A)}$$"
   ]
  },
  {
   "cell_type": "markdown",
   "metadata": {},
   "source": [
    "$$P(A) = P(B_1) \\cdot P(A | B_1) + P(B_2) \\cdot P(A | B_2) + P(B_3) \\cdot P(A | B_3)$$"
   ]
  },
  {
   "cell_type": "markdown",
   "metadata": {},
   "source": [
    "подставляем наши значения\n",
    "$$P(A) = \\frac{99}{100} \\cdot \\frac{1}{1000} + \\frac{1}{100} \\cdot \\frac{1}{1000} = \\frac{1}{1000} $$"
   ]
  },
  {
   "cell_type": "markdown",
   "metadata": {},
   "source": [
    "вероятность, что пациент действительно болен равна:"
   ]
  },
  {
   "cell_type": "markdown",
   "metadata": {},
   "source": [
    "$$P(B\\:|\\:A) = \\frac{P(A\\:|\\:B) \\cdot P(B)}{P(A)} = \\frac{\\frac{1}{1000} \\cdot \\frac{99}{100}}{\\frac{1}{1000}} = \\frac{99}{100} = 99 \\% $$"
   ]
  }
 ],
 "metadata": {
  "kernelspec": {
   "display_name": "Python 3",
   "language": "python",
   "name": "python3"
  },
  "language_info": {
   "codemirror_mode": {
    "name": "ipython",
    "version": 3
   },
   "file_extension": ".py",
   "mimetype": "text/x-python",
   "name": "python",
   "nbconvert_exporter": "python",
   "pygments_lexer": "ipython3",
   "version": "3.8.5"
  }
 },
 "nbformat": 4,
 "nbformat_minor": 4
}
